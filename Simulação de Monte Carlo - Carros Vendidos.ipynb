{
 "cells": [
  {
   "cell_type": "code",
   "execution_count": 1,
   "id": "c5562cbc",
   "metadata": {
    "scrolled": true
   },
   "outputs": [],
   "source": [
    "import warnings\n",
    "warnings.filterwarnings(\"ignore\")\n",
    "\n",
    "import pandas as pd\n",
    "import numpy as np\n",
    "import numpy_financial as npf\n",
    "import seaborn as sns\n",
    "import matplotlib.pyplot as plt\n",
    "from scipy import stats as st\n",
    "import random"
   ]
  },
  {
   "cell_type": "code",
   "execution_count": 18,
   "id": "1f1ce1ed",
   "metadata": {},
   "outputs": [
    {
     "name": "stdout",
     "output_type": "stream",
     "text": [
      "1.399783009366443\n"
     ]
    }
   ],
   "source": [
    "GR_1 = random.uniform(0, 4)\n",
    "print(GR_1)"
   ]
  },
  {
   "cell_type": "code",
   "execution_count": null,
   "id": "12f07758",
   "metadata": {
    "scrolled": true
   },
   "outputs": [],
   "source": [
    "# Carregando a base de dados e fazendo os checks iniciais\n",
    "tabela = pd.read_excel(r\"C:\\Users\\Andre\\Desktop\\Julia\\Mangue_Baja\\Vendas & Marketing\\Probabilidades de Venda Anuais.xlsx\")\n",
    "\n",
    "with plt.style.context(\"seaborn-deep\"):\n",
    "    plt.figure(figsize = (10, 8))\n",
    "    plt.plot(tabela[\"RND\"], linewidth = 1.5)\n",
    "    plt.xlabel(\"Posição\")\n",
    "    plt.ylabel(\"Vendas\")\n",
    "    plt.title(\"Vendas Proporcionadas\")"
   ]
  },
  {
   "cell_type": "code",
   "execution_count": null,
   "id": "0b6c8297",
   "metadata": {},
   "outputs": [],
   "source": [
    "Vendas = tabela[\"RND\"].dropna().to_numpy()"
   ]
  },
  {
   "cell_type": "code",
   "execution_count": null,
   "id": "abe8a1bf",
   "metadata": {},
   "outputs": [],
   "source": [
    "Vendas"
   ]
  },
  {
   "cell_type": "code",
   "execution_count": null,
   "id": "4376da33",
   "metadata": {},
   "outputs": [],
   "source": [
    "Venda = st.mode(Vendas)\n",
    "print(Venda)"
   ]
  },
  {
   "cell_type": "code",
   "execution_count": null,
   "id": "2a1015ad",
   "metadata": {},
   "outputs": [],
   "source": [
    "venda_random = np.random.choice(Vendas, size = 1, replace = True)\n",
    "\n",
    "print(venda_random)"
   ]
  },
  {
   "cell_type": "code",
   "execution_count": null,
   "id": "1af67566",
   "metadata": {},
   "outputs": [],
   "source": [
    "# Principais Variáveis\n",
    "\n",
    "FC0 = -42809850 # Investimento\n",
    "\n",
    "TMA = 0.135 # Taxa Mínima de Atratividade baseada na SELIC"
   ]
  },
  {
   "cell_type": "code",
   "execution_count": null,
   "id": "178aebcf",
   "metadata": {
    "scrolled": true
   },
   "outputs": [],
   "source": [
    "# Simulações\n",
    "num_sim = 500000\n",
    "\n",
    "CV = np.array([]) # array de carros vendidos  \n",
    "\n",
    "for j in range(num_sim):\n",
    "    venda_random = np.random.choice(Vendas, size = 1, replace = True)\n",
    "    CV = np.append(CV, venda_random)\n",
    "\n",
    "\n",
    "print(CV)"
   ]
  },
  {
   "cell_type": "code",
   "execution_count": null,
   "id": "866c58f8",
   "metadata": {},
   "outputs": [],
   "source": [
    "CV_mode = st.mode(CV)\n",
    "print(CV_mode)"
   ]
  },
  {
   "cell_type": "code",
   "execution_count": null,
   "id": "44e9c35d",
   "metadata": {
    "scrolled": true
   },
   "outputs": [],
   "source": [
    "VPL_array = np.array([])   \n",
    "\n",
    "for i in range(num_sim):\n",
    "    FC = CV[i] * 4659\n",
    "    GR_1 = random.uniform(0, 4)\n",
    "    GR_2 = random.uniform(0, 4)\n",
    "    GR_3 = random.uniform(0, 4)\n",
    "    GR_4 = random.uniform(0, 4)\n",
    "    VPL = npf.npv(TMA, [FC0, FC, FC * GR_1, FC * GR_2, FC * GR_3, FC * GR_4]) \n",
    "    VPL_array = np.append(VPL_array, VPL)\n",
    "\n",
    "print(VPL)        "
   ]
  },
  {
   "cell_type": "code",
   "execution_count": null,
   "id": "4a35f433",
   "metadata": {
    "scrolled": true
   },
   "outputs": [],
   "source": [
    "VPL_array"
   ]
  },
  {
   "cell_type": "code",
   "execution_count": null,
   "id": "cd26c9d4",
   "metadata": {
    "scrolled": false
   },
   "outputs": [],
   "source": [
    "config = dict(histtype = \"stepfilled\", alpha = 0.7, density = False, bins = 50)\n",
    "\n",
    "plt.figure(figsize = (10,7))\n",
    "plt.hist(VPL_array, **config, label = \"VPL\")\n",
    "plt.legend(loc = \"upper right\"\n",
    "           , frameon = True\n",
    "           , ncol = 2 \n",
    "           , fancybox = True\n",
    "           , framealpha = 0.95\n",
    "           , shadow = True\n",
    "           , borderpad = 1)\n",
    "plt.title(\"Distribuição de VPL \\n \" + \" Simulação MC\");"
   ]
  },
  {
   "cell_type": "code",
   "execution_count": null,
   "id": "8df6a639",
   "metadata": {},
   "outputs": [],
   "source": [
    "VPL_mode = st.mode(VPL_array)\n",
    "print(VPL_mode)"
   ]
  },
  {
   "cell_type": "code",
   "execution_count": null,
   "id": "850a8fb5",
   "metadata": {},
   "outputs": [],
   "source": [
    "VPL_real = npf.npv(TMA, [FC0, 2300*4100, 2700*4100, 3150*4100, 3850*4100, 4050*4100]) \n",
    "print(VPL_real)"
   ]
  },
  {
   "cell_type": "code",
   "execution_count": null,
   "id": "f784a0c9",
   "metadata": {},
   "outputs": [],
   "source": [
    "TIR_array = np.array([])   \n",
    "\n",
    "for i in range(num_sim):\n",
    "    FC = CV[i] * 4659\n",
    "    GR_1 = random.uniform(0, 4)\n",
    "    GR_2 = random.uniform(0, 4)\n",
    "    GR_3 = random.uniform(0, 4)\n",
    "    GR_4 = random.uniform(0, 4)\n",
    "    TIR = npf.irr([FC0, FC, FC * GR_1, FC * GR_2, FC * GR_3, FC * GR_4]) \n",
    "    TIR = TIR *100\n",
    "    TIR_array = np.append(TIR_array, TIR)\n",
    "\n",
    "print(TIR)        "
   ]
  },
  {
   "cell_type": "code",
   "execution_count": null,
   "id": "37b3985b",
   "metadata": {},
   "outputs": [],
   "source": [
    "TIR_array"
   ]
  },
  {
   "cell_type": "code",
   "execution_count": null,
   "id": "c4d34d0b",
   "metadata": {},
   "outputs": [],
   "source": [
    "config = dict(histtype = \"stepfilled\", alpha = 0.7, density = False, bins = 50)\n",
    "\n",
    "plt.figure(figsize = (10,7))\n",
    "plt.hist(VPL_array, **config, label = \"TIR\")\n",
    "plt.xlabel(\"TIR\")\n",
    "plt.ylabel(\"Probabilidade\")\n",
    "\n",
    "plt.legend(loc = \"upper right\"\n",
    "           , frameon = True\n",
    "           , ncol = 2 \n",
    "           , fancybox = True\n",
    "           , framealpha = 0.95\n",
    "           , shadow = True\n",
    "           , borderpad = 1)\n",
    "plt.title(\"Distribuição de TIR \\n \" + \" Simulação MC\");"
   ]
  },
  {
   "cell_type": "code",
   "execution_count": null,
   "id": "f1b6eb8a",
   "metadata": {},
   "outputs": [],
   "source": [
    "TIR_mode = st.mode(TIR_array)\n",
    "print(TIR_mode)"
   ]
  },
  {
   "cell_type": "code",
   "execution_count": null,
   "id": "bd51c535",
   "metadata": {},
   "outputs": [],
   "source": [
    "TIR_real = npf.irr([FC0, 2300*4100, 2700*4100, 3150*4100, 3850*4100, 4050*4100]) *100 \n",
    "print(TIR_real)"
   ]
  },
  {
   "cell_type": "code",
   "execution_count": null,
   "id": "fea31bae",
   "metadata": {},
   "outputs": [],
   "source": [
    "Payback_array = np.array([])   \n",
    "\n",
    "for i in range(num_sim):\n",
    "    Payback = - FC0 / (VPL_array[i])  \n",
    "    Payback_array = np.append(Payback_array, Payback)\n",
    "\n",
    "print(Payback)        "
   ]
  },
  {
   "cell_type": "code",
   "execution_count": null,
   "id": "f8243289",
   "metadata": {},
   "outputs": [],
   "source": [
    "Payback_array"
   ]
  },
  {
   "cell_type": "code",
   "execution_count": null,
   "id": "eca1497e",
   "metadata": {},
   "outputs": [],
   "source": [
    "config = dict(histtype = \"stepfilled\", alpha = 0.7, density = False, bins = 50)\n",
    "\n",
    "plt.figure(figsize = (10,7))\n",
    "plt.hist(VPL_array, **config, label = \"Payback\")\n",
    "plt.xlabel(\"Payback\")\n",
    "plt.ylabel(\"Probabilidade\")\n",
    "\n",
    "plt.legend(loc = \"upper right\"\n",
    "           , frameon = True\n",
    "           , ncol = 2 \n",
    "           , fancybox = True\n",
    "           , framealpha = 0.95\n",
    "           , shadow = True\n",
    "           , borderpad = 1)\n",
    "plt.title(\"Distribuição de Payback \\n \" + \" Simulação MC\");"
   ]
  },
  {
   "cell_type": "code",
   "execution_count": null,
   "id": "ac314e8f",
   "metadata": {},
   "outputs": [],
   "source": [
    "Pb_mode = st.mode(Payback_array)\n",
    "print(Pb_mode)"
   ]
  }
 ],
 "metadata": {
  "kernelspec": {
   "display_name": "Python 3 (ipykernel)",
   "language": "python",
   "name": "python3"
  },
  "language_info": {
   "codemirror_mode": {
    "name": "ipython",
    "version": 3
   },
   "file_extension": ".py",
   "mimetype": "text/x-python",
   "name": "python",
   "nbconvert_exporter": "python",
   "pygments_lexer": "ipython3",
   "version": "3.9.7"
  }
 },
 "nbformat": 4,
 "nbformat_minor": 5
}
